{
 "metadata": {
  "name": "OLR"
 },
 "nbformat": 3,
 "nbformat_minor": 0,
 "worksheets": [
  {
   "cells": [
    {
     "cell_type": "heading",
     "level": 1,
     "metadata": {},
     "source": "Stefan-Boltzman and Planck Sensitivities"
    },
    {
     "cell_type": "markdown",
     "metadata": {},
     "source": "This is an iPython notebook version of [New Science 15: Modeling outgoing radiation (OLR)](http://joannenova.com.au/2015/10/new-science-15-modeling-outgoing-radiation-olr/)"
    },
    {
     "cell_type": "heading",
     "level": 2,
     "metadata": {},
     "source": "Abstract: "
    },
    {
     "cell_type": "code",
     "collapsed": false,
     "input": "# Just a helper to accumulate individual latitude bands, hours, seasons, or emitting layers\nclass Totals:\n    def __init__(self, what):\n        self.what = what\n        self.totalWeightTemp = self.totalWeightIncrTemp = self.totalWeightR = self.totalWeightIncrR = 0\n    def addUp(self, weightedTemp, weightedR, weightedIncrTemp, weightedIncrR):\n        self.totalWeightTemp += weightedTemp\n        self.totalWeightR += weightedR\n        self.totalWeightIncrTemp += weightedIncrTemp\n        self.totalWeightIncrR += weightedIncrR\n    def show(self):\n        print self.what, self.totalWeightTemp, self.totalWeightR, self.totalWeightIncrTemp, self.totalWeightIncrR\n\n# Performs the arithmetic analysis of the totals\nclass OLRAnalyse:    # should take a Totals object to analyze\n    def __init__(self, t):\n        self.what = t.what\n        self.twT = t.totalWeightTemp\n        self.twIT = t.totalWeightIncrTemp\n        self.twR = t.totalWeightR\n        self.twIR = t.totalWeightIncrR\n\n        self.origTR = (self.twR / SigmaEpsilon) ** 0.25\n        self.incrTR = (self.twIR / SigmaEpsilon) ** 0.25\n\n        self.deltaTs = self.twIT - self.twT\n        self.deltaR = self.twIR - self.twR    # k\n        self.deltaTR = self.incrTR - self.origTR              # W/m**2\n\n        self.slope = self.origTR / (4 * self.twR)\n        self.sbSensitivity = self.deltaTR / self.deltaR\n        self.planckSensitivity = self.deltaTs / self.deltaR\n        self.temperatureAmplification = self.deltaTs / self.deltaTR\n\n        self.diff_sbSensitivity_slope = 100 * (self.sbSensitivity - self.slope)/self.slope\n        self.diff_planckSensitivity_sbSensitivity = 100 * (self.planckSensitivity - self.sbSensitivity)/self.slope\n        self.diff_planckSensitivity_slope = 100 * (self.planckSensitivity - self.slope)/self.slope\n\n    def analysis(self):\n        print self.what\n        print self.origTR, self.incrTR\n        print self.deltaTs, self.deltaR, self.deltaTR       # k\n        print self.slope, self.sbSensitivity, self.planckSensitivity, self.temperatureAmplification\n        print self.diff_sbSensitivity_slope, self.diff_planckSensitivity_sbSensitivity, self.diff_planckSensitivity_slope",
     "language": "python",
     "metadata": {},
     "outputs": [],
     "prompt_number": 106
    },
    {
     "cell_type": "heading",
     "level": 3,
     "metadata": {},
     "source": "Latitude"
    },
    {
     "cell_type": "code",
     "collapsed": false,
     "input": "# Constants\nSBconstant = 5.67 * 10**(-8)  # W/m^2 per K^4   ## sigma\nEarthEmmisivity = 0.995    # units    ## epsilon\n\n# Chosen so the average emission temperature is 255 K\n#    (temperatures change uniformly in the troposphere, so the change\n#     in this temperature is equal to the change in the surface temperature).\nTempEquator = 266.8  # K\nEarthRadius = 1.0    # m   (actual unit is EarthRadius; we only care about the latitude band area ratios)\n\nTemperatureIncrement = 0.1  # K\n\nTempOffsetFromEq = ( 0, 0, 1, 2, 3, 5, 8, 11, 15, 19, 23, 27, 31, 35, 40, 45, 47, 48 )    # equal bands of latitude,  centigrade\n",
     "language": "python",
     "metadata": {},
     "outputs": [],
     "prompt_number": 102
    },
    {
     "cell_type": "code",
     "collapsed": false,
     "input": "# Calculated constants\nSigmaEpsilon = SBconstant * EarthEmmisivity\n\nEarthHemisphereArea = 4 * math.pi * EarthRadius * EarthRadius\n\nNumLatitudeBands = len(TempOffsetFromEq)\nLatitudePerBand = 90 / NumLatitudeBands  # degrees\n\nprint SigmaEpsilon\nprint NumLatitudeBands, LatitudePerBand\n",
     "language": "python",
     "metadata": {},
     "outputs": [
      {
       "output_type": "stream",
       "stream": "stdout",
       "text": "5.64165e-08\n18 5\n"
      }
     ],
     "prompt_number": 103
    },
    {
     "cell_type": "code",
     "collapsed": false,
     "input": "latTotals = Totals(\"latitude\")\n\nfor n in range(0,NumLatitudeBands):\n    bandStart = n * LatitudePerBand\n    bandCenter = bandStart + LatitudePerBand/2.0\n    # orig\n    bandArea = 2 * ( 2*math.pi*math.cos( bandCenter*math.pi/180.0 )) * (2 * math.pi * EarthRadius * LatitudePerBand / 360.0 )\n    # via http://mathforum.org/library/drmath/view/63767.html\n    bandArea = 2 * ( 2*math.pi*(math.sin((bandStart+LatitudePerBand)*math.pi/180) - math.sin(bandStart*math.pi/180)) )\n    bandWeight = bandArea / EarthHemisphereArea\n    bandTemp = TempEquator - TempOffsetFromEq[n]  # k\n    bandWeightTemp = bandTemp * bandWeight   # k\n    bandWeightR = bandWeight * SigmaEpsilon * bandTemp**4  # W/m**2\n    bandIncrTemp = bandTemp + TemperatureIncrement           # k\n    bandWeightIncrTemp = bandWeight * bandIncrTemp           # k\n    bandWeightIncrR = bandWeight * SigmaEpsilon * bandIncrTemp**4   # W/m**2\n    #\n    totalWeight += bandWeight\n    latTotals.addUp(bandWeightTemp, bandWeightR, bandWeightIncrTemp, bandWeightIncrR)\n    totalArea += bandArea\n    #\n    print bandCenter, bandWeight, TempOffsetFromEq[n], bandTemp, bandWeightTemp, bandWeightR, bandIncrTemp, bandWeightIncrTemp, bandWeightIncrR, bandArea\n\nprint\nprint totalWeight, totalArea\nlatTotals.show()\n",
     "language": "python",
     "metadata": {},
     "outputs": [
      {
       "output_type": "stream",
       "stream": "stdout",
       "text": "2.5 0.0871557427477 0 266.8 23.2531521651 24.9141140929 266.9 23.2618677393 24.9514875934 1.09523136454\n7.5 0.0864924349193 0 266.8 23.0761816365 24.7245026411 266.9 23.08483088 24.7615917066 1.08689599253\n12.5 0.0851708674356 1 265.8 22.6384165644 23.9837515413 265.9 22.6469336511 24.0198648442 1.07028868574\n17.5 0.0832010982231 2 264.8 22.0316508095 23.0784757348 264.9 22.0399709193 23.1133572335 1.04553583579\n22.5 0.080598118415 3 263.8 21.2617836379 22.0206537248 263.9 21.2698434497 22.0540626378 1.01282582682\n27.5 0.0773817382593 5 261.8 20.2585390763 20.5079943791 261.9 20.2662772501 20.5393461707 0.97240760175\n32.5 0.073576436351 8 258.8 19.0415817277 18.6209561213 258.9 19.0489393713 18.6497532644 0.924588767671\n37.5 0.0692111733355 11 255.8 17.7042181392 16.7180073603 255.9 17.7111392566 16.7441650042 0.869733254788\n42.5 0.0643191715 15 251.8 16.1955673837 14.5871176038 251.9 16.2019993009 14.6103039574 0.808258546678\n47.5 0.0589376619324 19 247.8 14.6047526269 12.5373067283 247.9 14.610646393 12.5575567653 0.740632502987\n52.5 0.05310760117 23 243.8 12.9476331652 10.5851649452 243.9 12.9529439254 10.6025425979 0.667369798742\n57.5 0.0468733594954 27 239.8 11.240231607 8.74437826251 239.9 11.244918943 8.75897350784 0.58902800736\n62.5 0.0402823832522 31 235.8 9.49858597087 7.02581159884 235.9 9.5026142092 7.03773743804 0.506203357177\n67.5 0.0333848337493 35 231.8 7.73860446308 5.43762287629 231.9 7.74194294645 5.44701225097 0.419526193792\n72.5 0.0262332055032 40 226.8 5.94969100812 3.91588295116 226.9 5.95231432867 3.92279383932 0.329656182755\n77.5 0.0188819267231 45 221.8 4.18801134719 2.57809320838 221.9 4.18989953986 2.58274575529 0.237277289116\n82.5 0.0113869450795 47 219.8 2.50285052848 1.4994228263 219.9 2.50398922299 1.502153393 0.143092572035\n87.5 0.00380530190825 48 218.8 0.832600057526 0.492022008128 218.9 0.832980587717 0.492922116758 0.0478188340787\n\n2.0 25.1327412287\nlatitude 254.964051915 241.971278604 255.064051915 242.348370077\n"
      }
     ],
     "prompt_number": 109
    },
    {
     "cell_type": "code",
     "collapsed": false,
     "input": "OLRAnalyse(latTotals).analysis()",
     "language": "python",
     "metadata": {},
     "outputs": [
      {
       "output_type": "stream",
       "stream": "stdout",
       "text": "latitude\n255.911274629 256.010920354\n0.1 0.377091472095 0.0996457252976\n0.264402531681 0.264248153754 0.2651876465 1.0035553427\n-0.0583874618353 0.355326682973 0.296939221138\n"
      }
     ],
     "prompt_number": 108
    },
    {
     "cell_type": "heading",
     "level": 3,
     "metadata": {},
     "source": "Time Of Day"
    },
    {
     "cell_type": "code",
     "collapsed": false,
     "input": "# Constants\n\n# Assumes temperature min at 6am, max at 4 pm, linear variation in between.\n# ...Choose temperature of average EL, so averages 255 K during year.\nMaxDailyTemp = 262.0   # k\nDailyTempRange = 14.0  # k\nTemperatureIncDt = 0.1000 # k\n\n# per hour\nTempDeficitFromMax = (8.0, 9.0, 10.0, 11.0, 12.0, 13.0, 14.0, 12.6, 11.2, 9.8, 8.4, 7.0, 5.6, 4.2, 2.8, 1.4, 0.0, 1.0, 2.0, 3.0, 4.0, 5.0, 6.0, 7.0)\n\nhourTotals = Totals(\"time of day\")\n\nfor h in range(0,24):\n    hourWeight = 1.0/24.0\n    hourTemp = MaxDailyTemp - TempDeficitFromMax[h]\n    hourWeightedTemp = hourWeight * hourTemp\n    hourWeightedR = hourWeight * SigmaEpsilon * hourTemp**4\n    hourIncrTemp = hourTemp + TemperatureIncDt\n    hourWeightedIncrTemp = hourWeight * hourIncrTemp\n    hourWeightedIncrR = hourWeight * SigmaEpsilon * hourIncrTemp**4\n    #\n    totalWeight += hourWeight\n    hourTotals.addUp(hourWeightedTemp, hourWeightedR, hourWeightedIncrTemp, hourWeightedIncrR)\n\n    #\n    print h, hourWeight, hourTemp, hourWeightedT, hourWeightedR, hourIncrTemp, hourWeightedIncrTemp, hourWeightedIncrR\n    \nprint totalWeight\nhourTotals.show()",
     "language": "python",
     "metadata": {},
     "outputs": [
      {
       "output_type": "stream",
       "stream": "stdout",
       "text": "0 0.0416666666667 254.0 10.5833333333 9.78430009265 254.1 10.5875 9.79971754106\n1 0.0416666666667 253.0 10.5833333333 9.63112418241 253.1 10.5458333333 9.6463602865\n2 0.0416666666667 252.0 10.5833333333 9.47975385874 252.1 10.5041666667 9.49481004614\n3 0.0416666666667 251.0 10.5833333333 9.33017487648 251.1 10.4625 9.34505256916\n4 0.0416666666667 250.0 10.5833333333 9.18237304688 250.1 10.4208333333 9.19707366118\n5 0.0416666666667 249.0 10.5833333333 9.0363342376 249.1 10.3791666667 9.05085918422\n6 0.0416666666667 248.0 10.5833333333 8.89204437274 248.1 10.3375 8.90639505672\n7 0.0416666666667 249.4 10.5833333333 9.09453910099 249.5 10.3958333333 9.10913414576\n8 0.0416666666667 250.8 10.5833333333 9.30047279139 250.9 10.4541666667 9.31531495527\n9 0.0416666666667 252.2 10.5833333333 9.50988416112 252.3 10.5125 9.52497621792\n10 0.0416666666667 253.6 10.5833333333 9.72281214413 253.7 10.5708333333 9.73815688313\n11 0.0416666666667 255.0 10.5833333333 9.93929589105 255.1 10.6291666667 9.95489611704\n12 0.0416666666667 256.4 10.5833333333 10.1593747693 256.5 10.6875 10.1752333025\n13 0.0416666666667 257.8 10.5833333333 10.383088363 257.9 10.7458333333 10.3992080391\n14 0.0416666666667 259.2 10.5833333333 10.6104764729 259.3 10.8041666667 10.6268601433\n15 0.0416666666667 260.6 10.5833333333 10.8415791167 260.7 10.8625 10.8582296479\n16 0.0416666666667 262.0 10.5833333333 11.0764365287 262.1 10.9208333333 11.093356803\n17 0.0416666666667 261.0 10.5833333333 10.9082963299 261.1 10.8791666667 10.9250236358\n18 0.0416666666667 260.0 10.5833333333 10.74207771 260.1 10.8375 10.7586135202\n19 0.0416666666667 259.0 10.5833333333 10.5777659725 259.1 10.7958333333 10.5941117542\n20 0.0416666666667 258.0 10.5833333333 10.4153464773 258.1 10.7541666667 10.431503692\n21 0.0416666666667 257.0 10.5833333333 10.2548046408 257.1 10.7125 10.2707747442\n22 0.0416666666667 256.0 10.5833333333 10.0961259356 256.1 10.6708333333 10.1119103781\n23 0.0416666666667 255.0 10.5833333333 9.93929589105 255.1 10.6291666667 9.95489611704\n2.0\ntime of day 255.0 238.907776964 255.1 239.282468441\n"
      }
     ],
     "prompt_number": 113
    },
    {
     "cell_type": "code",
     "collapsed": false,
     "input": "OLRAnalyse(hourTotals).analysis()",
     "language": "python",
     "metadata": {},
     "outputs": [
      {
       "output_type": "stream",
       "stream": "stdout",
       "text": "time of day\n255.097402742 255.197364598\n0.0999999999999 0.374691477483 0.0999618555842\n0.266941292142 0.266784438909 0.266886241106 1.00038158971\n-0.058759449456 0.0381365492408 -0.0206229002152\n"
      }
     ],
     "prompt_number": 114
    },
    {
     "cell_type": "heading",
     "level": 3,
     "metadata": {},
     "source": "Seasons"
    },
    {
     "cell_type": "code",
     "collapsed": false,
     "input": "TemperatureOfEL = 240.9   # k\nTemperatureIncrDt = 0.0010  # k\n\nMonthTemps = [\n    (\"NH Jan\", 8.0), (\"NH Feb\", 8.4), (\"NH Mar\", 10.7), (\"NH Apr\", 13.9), (\"NH May\", 17.2), (\"NH Jun\", 19.7),\n    (\"NH Jul\", 21.0),  (\"NH Aug\", 20.9),  (\"NH Sep\", 19.0),  (\"NH Oct\", 15.8),  (\"NH Nov\", 12.0), (\"NH Dec\", 9.2),\n    (\"SH Jan\", 16.4),  (\"SH Feb\", 16.2),  (\"SH Mar\", 15.3),  (\"SH Apr\", 14.0),  (\"SH May\", 13.8),  (\"SH Jun\", 11.7),\n    (\"SH Jul\", 10.8),  (\"SH Aug\", 10.7),  (\"SH Sep\", 11.2),  (\"SH Oct\", 12.4),  (\"SH Nov\", 14.1),  (\"SH Dec\", 15.6) ]\n",
     "language": "python",
     "metadata": {},
     "outputs": [],
     "prompt_number": 88
    },
    {
     "cell_type": "code",
     "collapsed": false,
     "input": "seasonTotals = Totals(\"season\")\nmWeight = 1.0/24.0\nfor m,t in monthTemps:\n    mTemp = TemperatureOfEL + t\n    mWeightedTemp = mTemp * mWeight\n    mWeightedR = mWeight * SigmaEpsilon * mTemp**4\n    mIncrTemp = mTemp + TemperatureIncrDt\n    mWeightedIncrTemp = mWeight * mIncrTemp\n    mWeightedIncrR = mWeight * SigmaEpsilon * mIncrTemp**4\n    seasonTotals.addUp(mWeightedTemp, mWeightedR, mWeightedIncrTemp, mWeightedIncrR)\n    #print m,t\n\nseasonTotals.show()",
     "language": "python",
     "metadata": {},
     "outputs": [
      {
       "output_type": "stream",
       "stream": "stdout",
       "text": "season 254.983333333 238.779031388 254.984333333 238.782774865\n"
      }
     ],
     "prompt_number": 115
    },
    {
     "cell_type": "code",
     "collapsed": false,
     "input": "OLRAnalyse(seasonTotals).analysis()",
     "language": "python",
     "metadata": {},
     "outputs": [
      {
       "output_type": "stream",
       "stream": "stdout",
       "text": "season\n255.063028285 255.064027971\n0.00099999999992 0.00374347744432 0.000999686901196\n0.267049232508 0.267047662519 0.267131300988 1.00031319679\n-0.000587902606039 0.0313194944083 0.0307315918023\n"
      }
     ],
     "prompt_number": 117
    },
    {
     "cell_type": "markdown",
     "metadata": {},
     "source": "*Conclusions*\n\n1. The SB sensitivity is confirmed numerically as equal to the slope of the curve in the SB law, namely 0.267 K per W/m2. (The SB sensitivity calculated here converges with the slope as the temperatures increments vanish.)\n\n2. The Planck sensitivity is calculated here as 0.31 K per W/m2, which agrees with the climate models. It is calcauted here as 15.8% higher than the SB sensitivity.\n\n3. That 15.8% consists of:\n\na. 14.4% for the non-SB nature of the CO2EL and the ozone emissions  layer, which are largely in the \nstratophere (the parts in the stratosphere do not emit more OLR as the surface warms because the\nstratospheric temperatures remain constant under the Planck conditions).\n\nb. 1.4% for the non-uniform temperature distribution  and the concavity of the T^4 function:\n\n               latitude                0.36 %\n               time of day          0.04 %\n               seasons                0.03 %\n               emitting layers   0.97 % (treat the CO2 and ozone EL s as SB emitters, see switch in cell C117).\n\n4. The concavity factor of 1.4% may be regarded as due to moving from a 0-D model to a climate model, a correction factor for the non-uniformity of the temperature distribution. \n"
    }
   ],
   "metadata": {}
  }
 ]
}