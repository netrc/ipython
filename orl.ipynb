{
 "metadata": {
  "name": "OLR"
 },
 "nbformat": 3,
 "nbformat_minor": 0,
 "worksheets": [
  {
   "cells": [
    {
     "cell_type": "heading",
     "level": 1,
     "metadata": {},
     "source": "Stefan-Boltzman and Planck Sensitivities"
    },
    {
     "cell_type": "heading",
     "level": 2,
     "metadata": {},
     "source": "Abstract: "
    },
    {
     "cell_type": "heading",
     "level": 3,
     "metadata": {},
     "source": "Latitude"
    },
    {
     "cell_type": "code",
     "collapsed": false,
     "input": "# Constants\nSBconstant = 5.67 * 10**(-8)  # W/m^2 per K^4   ## sigma\nEarthEmmisivity = 0.995    # units    ## epsilon\n\nTempEquator = 266.8  # K\nEarthRadius = 1.0    # m   (actual unit is EarthRadius)\n\nTemperatureIncrement = 0.1  # K\n\n\nTempOffsetFromEq = ( 0, 0, 1, 2, 3, 5, 8, 11, 15, 19, 23, 27, 31, 35, 40, 45, 47, 48 )    # equal bands of latitude,  centigrade\n",
     "language": "python",
     "metadata": {},
     "outputs": [],
     "prompt_number": 35
    },
    {
     "cell_type": "code",
     "collapsed": false,
     "input": "# Calculated constants\nSigmaEpsilon = SBconstant * EarthEmmisivity\n\nEarthHemisphereArea = 4 * math.pi * EarthRadius * EarthRadius\n\nNumLatitudeBands = len(TempOffsetFromEq)\nLatitudePerBand = 90 / NumLatitudeBands  # degrees\nprint SigmaEpsilon\nprint NumLatitudeBands, LatitudePerBand\n",
     "language": "python",
     "metadata": {},
     "outputs": [
      {
       "output_type": "stream",
       "stream": "stdout",
       "text": "5.64165e-08\n18 5\n"
      }
     ],
     "prompt_number": 36
    },
    {
     "cell_type": "code",
     "collapsed": false,
     "input": "totalWeight = 0\ntotalWeightTemp = 0\ntotalWeightR = 0\ntotalWeightIncrTemp = 0\ntotalWeightIncrR = 0\ntotalArea = 0\n\nfor n in range(0,NumLatitudeBands):\n    bandStart = n * LatitudePerBand\n    bandCenter = bandStart + LatitudePerBand/2.0\n    bandArea = 2 * ( 2*math.pi*math.cos( bandCenter*math.pi/180.0 )) * (2 * math.pi * EarthRadius * LatitudePerBand / 360.0 )\n    bandWeight = bandArea / EarthHemisphereArea\n    bandTemp = TempEquator - TempOffsetFromEq[n]  # k\n    bandWeightTemp = bandTemp * bandWeight   # k\n    bandWeightR = bandWeight * SigmaEpsilon * bandTemp**4  # W/m**2\n    bandIncrTemp = bandTemp + TemperatureIncrement           # k\n    bandWeightIncrTemp = bandIncrTemp * bandWeight           # k\n    bandWeightIncrR = bandWeight * SigmaEpsilon * bandIncrTemp**4   # W/m**2\n    #\n    totalWeight += bandWeight\n    totalWeightTemp += bandWeightTemp\n    totalWeightR += bandWeightR\n    totalWeightIncrTemp += bandWeightIncrTemp\n    totalWeightIncrR += bandWeightIncrR\n    totalArea += bandArea\n    #\n    print bandCenter, bandWeight, TempOffsetFromEq[n], bandTemp, bandWeightTemp, bandWeightR, bandIncrTemp, bandWeightIncrTemp, bandWeightIncrR, bandArea\n\nprint\nprint totalWeight, totalWeightTemp, totalWeightR, totalWeightIncrTemp, totalWeightIncrR, totalArea\n\norigTR = (totalWeightR / SigmaEpsilon) ** 0.25\nincrTR = (totalWeightIncrR / SigmaEpsilon) ** 0.25\nprint origTR, incrTR",
     "language": "python",
     "metadata": {},
     "outputs": [
      {
       "output_type": "stream",
       "stream": "stdout",
       "text": "2.5 0.087183404264 0 266.8 23.2605322576 24.9220213421 266.9 23.2692505981 24.9594067041 1.0955789694\n7.5 0.0865198859148 0 266.8 23.0835055621 24.7323497114 266.9 23.0921575506 24.7694505482 1.08724095192\n12.5 0.0851978989916 1 265.8 22.645601552 23.9913635117 265.9 22.6541213419 24.0274882763 1.07062837429\n17.5 0.0832275046132 2 264.8 22.0386432216 23.0858003884 264.9 22.046965972 23.1206929579 1.04586766828\n22.5 0.0806236986705 3 263.8 21.2685317093 22.0276426466 263.9 21.2765940792 22.0610621629 1.01314727779\n27.5 0.0774062976991 5 261.8 20.2649687376 20.5145032127 261.9 20.2727093674 20.5458649547 0.972716224772\n32.5 0.073599788063 8 258.8 19.0476251507 18.6268660461 258.9 19.0549851295 18.6556723288 0.924882213937\n37.5 0.0692331395989 11 255.8 17.7098371094 16.7233133265 255.9 17.7167604234 16.7494792724 0.870009290995\n42.5 0.0643395851384 15 251.8 16.2007075378 14.5917472676 251.9 16.2071414964 14.6149409801 0.808515072023\n47.5 0.0589563675856 19 247.8 14.6093878877 12.5412858225 247.9 14.6152835245 12.5615422865 0.740867565157\n52.5 0.0531244564767 23 243.8 12.951742489 10.5885244681 243.9 12.9570549347 10.6059076361 0.667581608773\n57.5 0.0468882361766 27 239.8 11.2437990352 8.74715355596 239.9 11.2484878588 8.76175343353 0.589214953249\n62.5 0.0402951680873 31 235.8 9.501600635 7.02804145307 235.9 9.5056301518 7.0399710773 0.506364016153\n67.5 0.033395429438 35 231.8 7.74106054373 5.43934867071 231.9 7.74440008668 5.44874102539 0.419659343144\n72.5 0.026241531406 40 226.8 5.95157932287 3.91712577529 226.9 5.95420347601 3.92403885683 0.329760809136\n77.5 0.0188879194748 45 221.8 4.18934053952 2.57891144439 221.9 4.19122933146 2.58356546793 0.237352596255\n82.5 0.0113905590717 47 219.8 2.50364488395 1.49989871357 219.9 2.50478393986 1.5026301469 0.143137986799\n87.5 0.00380650963614 48 218.8 0.832864308387 0.492178166224 218.9 0.833244959351 0.49307856053 0.0478340108349\n\n1.00031738031 255.044972483 242.048075523 255.145004221 242.425286676 12.5703589329\n255.931577512 256.031231143\n"
      }
     ],
     "prompt_number": 40
    },
    {
     "cell_type": "code",
     "collapsed": false,
     "input": "deltaTs = totalWeightIncrTemp - totalWeightTemp\ndeltaR = totalWeightIncrR - totalWeightR    # k\ndeltaTR = incrTR - origTR              # W/m**2\nprint deltaTs, deltaR, deltaTR       # k\n",
     "language": "python",
     "metadata": {},
     "outputs": [
      {
       "output_type": "stream",
       "stream": "stdout",
       "text": "0.100031738031 0.377211153502 0.0996536307545\n"
      }
     ],
     "prompt_number": 38
    }
   ],
   "metadata": {}
  }
 ]
}