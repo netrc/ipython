{
 "metadata": {
  "name": "OLR"
 },
 "nbformat": 3,
 "nbformat_minor": 0,
 "worksheets": [
  {
   "cells": [
    {
     "cell_type": "heading",
     "level": 1,
     "metadata": {},
     "source": "Stefan-Boltzman and Planck Sensitivities"
    },
    {
     "cell_type": "heading",
     "level": 2,
     "metadata": {},
     "source": "Abstract: "
    },
    {
     "cell_type": "heading",
     "level": 3,
     "metadata": {},
     "source": "Latitude"
    },
    {
     "cell_type": "code",
     "collapsed": false,
     "input": "SBconstant = 5.67 * 10**(-8)  # W/m^2 per K^4   ## sigma\nEarthEmmisivity = 0.995    # units    ## epsilon\nSigmaEpsilon = SBconstant * EarthEmmisivity\n\nTempEquator = 266.8  # K\nEarthRadius = 1.0    # m\nEarthHemisphereArea = 4 * math.pi * EarthRadius * EarthRadius\nTemperatureIncrement = 0.1  # K\nTempOffsetFromEq = ( 0, 0, 1, 2, 3, 5, 8, 11, 15, 19, 23, 27, 31, 35, 40, 45, 47, 48 )    # equal bands of latitude,  centigrade\nNumLatitudeBands = len(TempOffsetFromEq)\nLatitudePerBand = 90 / NumLatitudeBands  # degrees\nprint SigmaEpsilon, NumLatitudeBands\n",
     "language": "python",
     "metadata": {},
     "outputs": [
      {
       "output_type": "stream",
       "stream": "stdout",
       "text": "5.64165e-08 18\n"
      }
     ],
     "prompt_number": 18
    },
    {
     "cell_type": "code",
     "collapsed": false,
     "input": "for n in range(0,NumLatitudeBands):\n    bandStart = n * LatitudePerBand\n    bandCenter = bandStart + LatitudePerBand/2.0\n    bandArea = 2 * ( 2*math.pi*math.cos( bandCenter*math.pi/180 )) * (2 * math.pi * EarthRadius * LatitudePerBand / 360 )\n    bandWeight = bandArea / EarthHemisphereArea\n    bandTemp = TempEquator - TempOffsetFromEq[n]  # k\n    bandWeightedTemp = bandTemp * bandWeight   # k\n    bandWeightedR = bandWeight * SigmaEpsilon * bandTemp**4\n    print bandCenter, bandArea, bandWeight, bandWeightedTemp, bandWeightedR\n    ",
     "language": "python",
     "metadata": {},
     "outputs": [
      {
       "output_type": "stream",
       "stream": "stdout",
       "text": "2.5 1.0955789694 0.087183404264 23.2605322576 24.9220213421\n7.5 1.08724095192 0.0865198859148 23.0835055621 24.7323497114\n12.5 1.07062837429 0.0851978989916 22.645601552 23.9913635117\n17.5 1.04586766828 0.0832275046132 22.0386432216 23.0858003884\n22.5 1.01314727779 0.0806236986705 21.2685317093 22.0276426466\n27.5 0.972716224772 0.0774062976991 20.2649687376 20.5145032127\n32.5 0.924882213937 0.073599788063 19.0476251507 18.6268660461\n37.5 0.870009290995 0.0692331395989 17.7098371094 16.7233133265\n42.5 0.808515072023 0.0643395851384 16.2007075378 14.5917472676\n47.5 0.740867565157 0.0589563675856 14.6093878877 12.5412858225\n52.5 0.667581608773 0.0531244564767 12.951742489 10.5885244681\n57.5 0.589214953249 0.0468882361766 11.2437990352 8.74715355596\n62.5 0.506364016153 0.0402951680873 9.501600635 7.02804145307\n67.5 0.419659343144 0.033395429438 7.74106054373 5.43934867071\n72.5 0.329760809136 0.026241531406 5.95157932287 3.91712577529\n77.5 0.237352596255 0.0188879194748 4.18934053952 2.57891144439\n82.5 0.143137986799 0.0113905590717 2.50364488395 1.49989871357\n87.5 0.0478340108349 0.00380650963614 0.832864308387 0.492178166224\n"
      }
     ],
     "prompt_number": 19
    }
   ],
   "metadata": {}
  }
 ]
}